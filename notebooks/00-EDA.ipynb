{
 "cells": [
  {
   "cell_type": "code",
   "execution_count": 1,
   "metadata": {},
   "outputs": [],
   "source": [
    "from scipy.sparse import csr_matrix\n",
    "import implicit\n",
    "import pandas as pd\n",
    "from tqdm.notebook import tqdm\n",
    "import matplotlib.pyplot as plt"
   ]
  },
  {
   "cell_type": "code",
   "execution_count": 2,
   "metadata": {},
   "outputs": [],
   "source": [
    "root = '../data/parquets/'\n",
    "book = pd.read_parquet(root + '/book_views.csv.parquet.gz', engine='pyarrow')"
   ]
  },
  {
   "cell_type": "code",
   "execution_count": 3,
   "metadata": {},
   "outputs": [
    {
     "data": {
      "text/html": [
       "<div>\n",
       "<style scoped>\n",
       "    .dataframe tbody tr th:only-of-type {\n",
       "        vertical-align: middle;\n",
       "    }\n",
       "\n",
       "    .dataframe tbody tr th {\n",
       "        vertical-align: top;\n",
       "    }\n",
       "\n",
       "    .dataframe thead th {\n",
       "        text-align: right;\n",
       "    }\n",
       "</style>\n",
       "<table border=\"1\" class=\"dataframe\">\n",
       "  <thead>\n",
       "    <tr style=\"text-align: right;\">\n",
       "      <th></th>\n",
       "      <th>user_id</th>\n",
       "      <th>item_id</th>\n",
       "      <th>rate</th>\n",
       "      <th>timestamp</th>\n",
       "    </tr>\n",
       "  </thead>\n",
       "  <tbody>\n",
       "    <tr>\n",
       "      <th>0</th>\n",
       "      <td>4</td>\n",
       "      <td>234705</td>\n",
       "      <td>0.0</td>\n",
       "      <td>1.363316e+09</td>\n",
       "    </tr>\n",
       "    <tr>\n",
       "      <th>1</th>\n",
       "      <td>116482</td>\n",
       "      <td>234705</td>\n",
       "      <td>0.0</td>\n",
       "      <td>1.363334e+09</td>\n",
       "    </tr>\n",
       "    <tr>\n",
       "      <th>2</th>\n",
       "      <td>112934</td>\n",
       "      <td>234170</td>\n",
       "      <td>10.0</td>\n",
       "      <td>1.363334e+09</td>\n",
       "    </tr>\n",
       "    <tr>\n",
       "      <th>3</th>\n",
       "      <td>112934</td>\n",
       "      <td>95396</td>\n",
       "      <td>10.0</td>\n",
       "      <td>1.363336e+09</td>\n",
       "    </tr>\n",
       "    <tr>\n",
       "      <th>4</th>\n",
       "      <td>35936</td>\n",
       "      <td>205566</td>\n",
       "      <td>0.0</td>\n",
       "      <td>1.363347e+09</td>\n",
       "    </tr>\n",
       "    <tr>\n",
       "      <th>...</th>\n",
       "      <td>...</td>\n",
       "      <td>...</td>\n",
       "      <td>...</td>\n",
       "      <td>...</td>\n",
       "    </tr>\n",
       "    <tr>\n",
       "      <th>1097012</th>\n",
       "      <td>2045727</td>\n",
       "      <td>230231</td>\n",
       "      <td>NaN</td>\n",
       "      <td>1.632047e+09</td>\n",
       "    </tr>\n",
       "    <tr>\n",
       "      <th>1097013</th>\n",
       "      <td>2045727</td>\n",
       "      <td>94061</td>\n",
       "      <td>NaN</td>\n",
       "      <td>1.632047e+09</td>\n",
       "    </tr>\n",
       "    <tr>\n",
       "      <th>1097014</th>\n",
       "      <td>2045727</td>\n",
       "      <td>245080</td>\n",
       "      <td>NaN</td>\n",
       "      <td>1.632048e+09</td>\n",
       "    </tr>\n",
       "    <tr>\n",
       "      <th>1097015</th>\n",
       "      <td>854238</td>\n",
       "      <td>228254</td>\n",
       "      <td>NaN</td>\n",
       "      <td>1.632050e+09</td>\n",
       "    </tr>\n",
       "    <tr>\n",
       "      <th>1097016</th>\n",
       "      <td>680600</td>\n",
       "      <td>232355</td>\n",
       "      <td>NaN</td>\n",
       "      <td>1.632051e+09</td>\n",
       "    </tr>\n",
       "  </tbody>\n",
       "</table>\n",
       "<p>1097017 rows × 4 columns</p>\n",
       "</div>"
      ],
      "text/plain": [
       "         user_id  item_id  rate     timestamp\n",
       "0              4   234705   0.0  1.363316e+09\n",
       "1         116482   234705   0.0  1.363334e+09\n",
       "2         112934   234170  10.0  1.363334e+09\n",
       "3         112934    95396  10.0  1.363336e+09\n",
       "4          35936   205566   0.0  1.363347e+09\n",
       "...          ...      ...   ...           ...\n",
       "1097012  2045727   230231   NaN  1.632047e+09\n",
       "1097013  2045727    94061   NaN  1.632047e+09\n",
       "1097014  2045727   245080   NaN  1.632048e+09\n",
       "1097015   854238   228254   NaN  1.632050e+09\n",
       "1097016   680600   232355   NaN  1.632051e+09\n",
       "\n",
       "[1097017 rows x 4 columns]"
      ]
     },
     "execution_count": 3,
     "metadata": {},
     "output_type": "execute_result"
    }
   ],
   "source": [
    "book"
   ]
  },
  {
   "cell_type": "code",
   "execution_count": 4,
   "metadata": {},
   "outputs": [],
   "source": [
    "users = book.drop_duplicates(subset = 'user_id').user_id.to_list()"
   ]
  },
  {
   "cell_type": "code",
   "execution_count": 5,
   "metadata": {},
   "outputs": [],
   "source": [
    "reversed_book = book.iloc[::-1]"
   ]
  },
  {
   "cell_type": "code",
   "execution_count": 6,
   "metadata": {},
   "outputs": [],
   "source": [
    "def get_test_subset(reversed_views):\n",
    "    test_df = pd.DataFrame()\n",
    "    for user in tqdm(users):\n",
    "        user_data = reversed_views[reversed_views.user_id == user]\n",
    "        if user_data.count()[0]>3:\n",
    "            for i in range(3):\n",
    "                test_df = test_df.append(user_data.iloc[i])\n",
    "        else:\n",
    "            test_df = test_df.append(user_data)\n",
    "    return test_df"
   ]
  },
  {
   "cell_type": "code",
   "execution_count": 7,
   "metadata": {},
   "outputs": [
    {
     "data": {
      "application/vnd.jupyter.widget-view+json": {
       "model_id": "e51cfb2a827a4305a77d34ce14d6ee50",
       "version_major": 2,
       "version_minor": 0
      },
      "text/plain": [
       "  0%|          | 0/84525 [00:00<?, ?it/s]"
      ]
     },
     "metadata": {},
     "output_type": "display_data"
    }
   ],
   "source": [
    "book_test = get_test_subset(reversed_book)"
   ]
  },
  {
   "cell_type": "code",
   "execution_count": 8,
   "metadata": {},
   "outputs": [],
   "source": [
    "book_train = pd.concat([book, book_test]).drop_duplicates(keep=False)"
   ]
  },
  {
   "cell_type": "code",
   "execution_count": 9,
   "metadata": {},
   "outputs": [
    {
     "data": {
      "text/html": [
       "<div>\n",
       "<style scoped>\n",
       "    .dataframe tbody tr th:only-of-type {\n",
       "        vertical-align: middle;\n",
       "    }\n",
       "\n",
       "    .dataframe tbody tr th {\n",
       "        vertical-align: top;\n",
       "    }\n",
       "\n",
       "    .dataframe thead th {\n",
       "        text-align: right;\n",
       "    }\n",
       "</style>\n",
       "<table border=\"1\" class=\"dataframe\">\n",
       "  <thead>\n",
       "    <tr style=\"text-align: right;\">\n",
       "      <th></th>\n",
       "      <th>item_id</th>\n",
       "      <th>rate</th>\n",
       "      <th>timestamp</th>\n",
       "      <th>user_id</th>\n",
       "    </tr>\n",
       "  </thead>\n",
       "  <tbody>\n",
       "    <tr>\n",
       "      <th>1067669</th>\n",
       "      <td>246366.0</td>\n",
       "      <td>NaN</td>\n",
       "      <td>1.621501e+09</td>\n",
       "      <td>4.0</td>\n",
       "    </tr>\n",
       "    <tr>\n",
       "      <th>1065193</th>\n",
       "      <td>48928.0</td>\n",
       "      <td>NaN</td>\n",
       "      <td>1.620711e+09</td>\n",
       "      <td>4.0</td>\n",
       "    </tr>\n",
       "    <tr>\n",
       "      <th>1029569</th>\n",
       "      <td>110157.0</td>\n",
       "      <td>NaN</td>\n",
       "      <td>1.609244e+09</td>\n",
       "      <td>4.0</td>\n",
       "    </tr>\n",
       "    <tr>\n",
       "      <th>5434</th>\n",
       "      <td>92949.0</td>\n",
       "      <td>0.0</td>\n",
       "      <td>1.368568e+09</td>\n",
       "      <td>116482.0</td>\n",
       "    </tr>\n",
       "    <tr>\n",
       "      <th>1</th>\n",
       "      <td>234705.0</td>\n",
       "      <td>0.0</td>\n",
       "      <td>1.363334e+09</td>\n",
       "      <td>116482.0</td>\n",
       "    </tr>\n",
       "  </tbody>\n",
       "</table>\n",
       "</div>"
      ],
      "text/plain": [
       "          item_id  rate     timestamp   user_id\n",
       "1067669  246366.0   NaN  1.621501e+09       4.0\n",
       "1065193   48928.0   NaN  1.620711e+09       4.0\n",
       "1029569  110157.0   NaN  1.609244e+09       4.0\n",
       "5434      92949.0   0.0  1.368568e+09  116482.0\n",
       "1        234705.0   0.0  1.363334e+09  116482.0"
      ]
     },
     "execution_count": 9,
     "metadata": {},
     "output_type": "execute_result"
    }
   ],
   "source": [
    "book_test.head()"
   ]
  },
  {
   "cell_type": "code",
   "execution_count": 10,
   "metadata": {},
   "outputs": [
    {
     "data": {
      "text/html": [
       "<div>\n",
       "<style scoped>\n",
       "    .dataframe tbody tr th:only-of-type {\n",
       "        vertical-align: middle;\n",
       "    }\n",
       "\n",
       "    .dataframe tbody tr th {\n",
       "        vertical-align: top;\n",
       "    }\n",
       "\n",
       "    .dataframe thead th {\n",
       "        text-align: right;\n",
       "    }\n",
       "</style>\n",
       "<table border=\"1\" class=\"dataframe\">\n",
       "  <thead>\n",
       "    <tr style=\"text-align: right;\">\n",
       "      <th></th>\n",
       "      <th>user_id</th>\n",
       "      <th>item_id</th>\n",
       "      <th>rate</th>\n",
       "      <th>timestamp</th>\n",
       "    </tr>\n",
       "  </thead>\n",
       "  <tbody>\n",
       "    <tr>\n",
       "      <th>0</th>\n",
       "      <td>4.0</td>\n",
       "      <td>234705.0</td>\n",
       "      <td>0.0</td>\n",
       "      <td>1.363316e+09</td>\n",
       "    </tr>\n",
       "    <tr>\n",
       "      <th>2</th>\n",
       "      <td>112934.0</td>\n",
       "      <td>234170.0</td>\n",
       "      <td>10.0</td>\n",
       "      <td>1.363334e+09</td>\n",
       "    </tr>\n",
       "    <tr>\n",
       "      <th>3</th>\n",
       "      <td>112934.0</td>\n",
       "      <td>95396.0</td>\n",
       "      <td>10.0</td>\n",
       "      <td>1.363336e+09</td>\n",
       "    </tr>\n",
       "    <tr>\n",
       "      <th>4</th>\n",
       "      <td>35936.0</td>\n",
       "      <td>205566.0</td>\n",
       "      <td>0.0</td>\n",
       "      <td>1.363347e+09</td>\n",
       "    </tr>\n",
       "    <tr>\n",
       "      <th>5</th>\n",
       "      <td>35936.0</td>\n",
       "      <td>227052.0</td>\n",
       "      <td>0.0</td>\n",
       "      <td>1.363348e+09</td>\n",
       "    </tr>\n",
       "  </tbody>\n",
       "</table>\n",
       "</div>"
      ],
      "text/plain": [
       "    user_id   item_id  rate     timestamp\n",
       "0       4.0  234705.0   0.0  1.363316e+09\n",
       "2  112934.0  234170.0  10.0  1.363334e+09\n",
       "3  112934.0   95396.0  10.0  1.363336e+09\n",
       "4   35936.0  205566.0   0.0  1.363347e+09\n",
       "5   35936.0  227052.0   0.0  1.363348e+09"
      ]
     },
     "execution_count": 10,
     "metadata": {},
     "output_type": "execute_result"
    }
   ],
   "source": [
    "book_train.head()"
   ]
  },
  {
   "cell_type": "markdown",
   "metadata": {},
   "source": [
    "# Look through data"
   ]
  },
  {
   "cell_type": "markdown",
   "metadata": {},
   "source": [
    "## Book"
   ]
  },
  {
   "cell_type": "code",
   "execution_count": 21,
   "metadata": {},
   "outputs": [],
   "source": [
    "import matplotlib.pyplot as plt"
   ]
  },
  {
   "cell_type": "code",
   "execution_count": 49,
   "metadata": {},
   "outputs": [
    {
     "data": {
      "text/plain": [
       "63023"
      ]
     },
     "execution_count": 49,
     "metadata": {},
     "output_type": "execute_result"
    }
   ],
   "source": [
    "len(book.groupby('item_id').count().user_id.to_list())"
   ]
  },
  {
   "cell_type": "code",
   "execution_count": 47,
   "metadata": {},
   "outputs": [
    {
     "data": {
      "text/plain": [
       "[<matplotlib.lines.Line2D at 0x1ce058718d0>]"
      ]
     },
     "execution_count": 47,
     "metadata": {},
     "output_type": "execute_result"
    },
    {
     "data": {
      "image/png": "[encoded data removed]",
      "text/plain": [
       "<Figure size 432x288 with 1 Axes>"
      ]
     },
     "metadata": {
      "needs_background": "light"
     },
     "output_type": "display_data"
    }
   ],
   "source": [
    "plt.plot(book.groupby('item_id').count().user_id.to_list()) # users per item"
   ]
  },
  {
   "cell_type": "code",
   "execution_count": 52,
   "metadata": {},
   "outputs": [
    {
     "data": {
      "text/plain": [
       "[<matplotlib.lines.Line2D at 0x1ce058de828>]"
      ]
     },
     "execution_count": 52,
     "metadata": {},
     "output_type": "execute_result"
    },
    {
     "data": {
      "image/png": "[encoded data removed]",
      "text/plain": [
       "<Figure size 432x288 with 1 Axes>"
      ]
     },
     "metadata": {
      "needs_background": "light"
     },
     "output_type": "display_data"
    }
   ],
   "source": [
    "plt.plot(book.groupby('user_id').count().item_id.to_list()) # items per user"
   ]
  },
  {
   "cell_type": "code",
   "execution_count": 11,
   "metadata": {},
   "outputs": [
    {
     "name": "stdout",
     "output_type": "stream",
     "text": [
      "median: 2.0\n",
      "mean: 12.0\n",
      "max: 26651\n"
     ]
    }
   ],
   "source": [
    "print('median:', book.groupby('user_id').count().reset_index().rate.median()) \n",
    "print('mean:', book.groupby('user_id').count().reset_index().rate.mean().round()) # среднее кол-во оценок выставленных пользователем\n",
    "print('max:', book.groupby('user_id').count().reset_index().rate.max())"
   ]
  },
  {
   "cell_type": "code",
   "execution_count": 12,
   "metadata": {},
   "outputs": [
    {
     "data": {
      "text/plain": [
       "<AxesSubplot:>"
      ]
     },
     "execution_count": 12,
     "metadata": {},
     "output_type": "execute_result"
    },
    {
     "data": {
      "image/png": "[encoded data removed]",
      "text/plain": [
       "<Figure size 1440x216 with 1 Axes>"
      ]
     },
     "metadata": {
      "needs_background": "light"
     },
     "output_type": "display_data"
    }
   ],
   "source": [
    "book.rate.hist(bins=11, figsize=(20, 3)) "
   ]
  },
  {
   "cell_type": "code",
   "execution_count": 13,
   "metadata": {},
   "outputs": [
    {
     "data": {
      "text/plain": [
       "<AxesSubplot:>"
      ]
     },
     "execution_count": 13,
     "metadata": {},
     "output_type": "execute_result"
    },
    {
     "data": {
      "image/png": "[encoded data removed]",
      "text/plain": [
       "<Figure size 432x288 with 1 Axes>"
      ]
     },
     "metadata": {
      "needs_background": "light"
     },
     "output_type": "display_data"
    }
   ],
   "source": [
    "book.groupby('item_id').mean().rate.hist() # распределение по оценкам для айтемов"
   ]
  },
  {
   "cell_type": "code",
   "execution_count": 14,
   "metadata": {},
   "outputs": [
    {
     "name": "stdout",
     "output_type": "stream",
     "text": [
      "median: 3.0\n",
      "mean: 16.0\n",
      "max: 6804\n"
     ]
    }
   ],
   "source": [
    "print('median:', book.groupby('item_id').count().reset_index().rate.median()) #кол-во оценок\n",
    "print('mean:', book.groupby('item_id').count().reset_index().rate.mean().round())\n",
    "print('max:', book.groupby('item_id').count().reset_index().rate.max())"
   ]
  },
  {
   "cell_type": "markdown",
   "metadata": {},
   "source": [
    "## Time distributions"
   ]
  },
  {
   "cell_type": "code",
   "execution_count": 74,
   "metadata": {},
   "outputs": [
    {
     "data": {
      "text/plain": [
       "[<matplotlib.lines.Line2D at 0x1ce08e48b38>]"
      ]
     },
     "execution_count": 74,
     "metadata": {},
     "output_type": "execute_result"
    },
    {
     "data": {
      "image/png": "[encoded data removed]",
      "text/plain": [
       "<Figure size 432x288 with 1 Axes>"
      ]
     },
     "metadata": {
      "needs_background": "light"
     },
     "output_type": "display_data"
    }
   ],
   "source": [
    "plt.plot((book.groupby('user_id').timestamp.max() - book.groupby('user_id').timestamp.min()).to_list()) \n",
    "# most of the users continue visiting the site"
   ]
  },
  {
   "cell_type": "code",
   "execution_count": 86,
   "metadata": {},
   "outputs": [],
   "source": [
    "time_df = book.groupby('timestamp').count().rate.reset_index().sort_values(by='timestamp')"
   ]
  },
  {
   "cell_type": "code",
   "execution_count": 128,
   "metadata": {},
   "outputs": [],
   "source": [
    "time =  time_df.timestamp.to_list()"
   ]
  },
  {
   "cell_type": "code",
   "execution_count": 110,
   "metadata": {},
   "outputs": [
    {
     "data": {
      "application/vnd.jupyter.widget-view+json": {
       "model_id": "602d87e6cd184572b2fb88e33b79a8da",
       "version_major": 2,
       "version_minor": 0
      },
      "text/plain": [
       "  0%|          | 0/1084550 [00:00<?, ?it/s]"
      ]
     },
     "metadata": {},
     "output_type": "display_data"
    }
   ],
   "source": [
    "total_rates = []\n",
    "for row in tqdm(time_df.iterrows(), total = time_df.shape[0]):\n",
    "    if total_rates:\n",
    "        total_rates.append(total_rates[-1]+row[1].rate)\n",
    "    else:\n",
    "        total_rates.append(row[1].rate)"
   ]
  },
  {
   "cell_type": "code",
   "execution_count": 131,
   "metadata": {},
   "outputs": [
    {
     "data": {
      "text/plain": [
       "[<matplotlib.lines.Line2D at 0x1ce05683e10>]"
      ]
     },
     "execution_count": 131,
     "metadata": {},
     "output_type": "execute_result"
    },
    {
     "data": {
      "image/png": "[encoded data removed]",
      "text/plain": [
       "<Figure size 432x288 with 1 Axes>"
      ]
     },
     "metadata": {
      "needs_background": "light"
     },
     "output_type": "display_data"
    }
   ],
   "source": [
    "plt.plot(time, total_rates) # site activity"
   ]
  },
  {
   "cell_type": "markdown",
   "metadata": {},
   "source": [
    "## Manga"
   ]
  },
  {
   "cell_type": "code",
   "execution_count": 3,
   "metadata": {},
   "outputs": [],
   "source": [
    "manga = pd.read_parquet(root + '/manga_1_views.csv.parquet.gz', engine='pyarrow')"
   ]
  },
  {
   "cell_type": "code",
   "execution_count": 4,
   "metadata": {},
   "outputs": [
    {
     "data": {
      "text/html": [
       "<div>\n",
       "<style scoped>\n",
       "    .dataframe tbody tr th:only-of-type {\n",
       "        vertical-align: middle;\n",
       "    }\n",
       "\n",
       "    .dataframe tbody tr th {\n",
       "        vertical-align: top;\n",
       "    }\n",
       "\n",
       "    .dataframe thead th {\n",
       "        text-align: right;\n",
       "    }\n",
       "</style>\n",
       "<table border=\"1\" class=\"dataframe\">\n",
       "  <thead>\n",
       "    <tr style=\"text-align: right;\">\n",
       "      <th></th>\n",
       "      <th>user_id</th>\n",
       "      <th>item_id</th>\n",
       "      <th>rate</th>\n",
       "      <th>timestamp</th>\n",
       "    </tr>\n",
       "  </thead>\n",
       "  <tbody>\n",
       "    <tr>\n",
       "      <th>0</th>\n",
       "      <td>17934</td>\n",
       "      <td>2718</td>\n",
       "      <td>NaN</td>\n",
       "      <td>1.339927e+09</td>\n",
       "    </tr>\n",
       "    <tr>\n",
       "      <th>1</th>\n",
       "      <td>18313</td>\n",
       "      <td>2718</td>\n",
       "      <td>10.0</td>\n",
       "      <td>1.339927e+09</td>\n",
       "    </tr>\n",
       "    <tr>\n",
       "      <th>2</th>\n",
       "      <td>43620</td>\n",
       "      <td>2718</td>\n",
       "      <td>5.0</td>\n",
       "      <td>1.339927e+09</td>\n",
       "    </tr>\n",
       "    <tr>\n",
       "      <th>3</th>\n",
       "      <td>63405</td>\n",
       "      <td>2718</td>\n",
       "      <td>10.0</td>\n",
       "      <td>1.339927e+09</td>\n",
       "    </tr>\n",
       "    <tr>\n",
       "      <th>4</th>\n",
       "      <td>65907</td>\n",
       "      <td>2718</td>\n",
       "      <td>NaN</td>\n",
       "      <td>1.339927e+09</td>\n",
       "    </tr>\n",
       "  </tbody>\n",
       "</table>\n",
       "</div>"
      ],
      "text/plain": [
       "   user_id  item_id  rate     timestamp\n",
       "0    17934     2718   NaN  1.339927e+09\n",
       "1    18313     2718  10.0  1.339927e+09\n",
       "2    43620     2718   5.0  1.339927e+09\n",
       "3    63405     2718  10.0  1.339927e+09\n",
       "4    65907     2718   NaN  1.339927e+09"
      ]
     },
     "execution_count": 4,
     "metadata": {},
     "output_type": "execute_result"
    }
   ],
   "source": [
    "manga.head()"
   ]
  },
  {
   "cell_type": "code",
   "execution_count": 5,
   "metadata": {},
   "outputs": [
    {
     "name": "stdout",
     "output_type": "stream",
     "text": [
      "median: 10.0\n",
      "mean: 66.0\n",
      "max: 13002\n"
     ]
    }
   ],
   "source": [
    "print('median:', manga.groupby('user_id').count().reset_index().rate.median()) \n",
    "print('mean:', manga.groupby('user_id').count().reset_index().rate.mean().round()) # среднее кол-во оценок выставленных пользователем\n",
    "print('max:', manga.groupby('user_id').count().reset_index().rate.max())"
   ]
  },
  {
   "cell_type": "code",
   "execution_count": 6,
   "metadata": {},
   "outputs": [
    {
     "data": {
      "text/plain": [
       "<AxesSubplot:>"
      ]
     },
     "execution_count": 6,
     "metadata": {},
     "output_type": "execute_result"
    },
    {
     "data": {
      "image/png": "[encoded data removed]",
      "text/plain": [
       "<Figure size 1440x216 with 1 Axes>"
      ]
     },
     "metadata": {
      "needs_background": "light"
     },
     "output_type": "display_data"
    }
   ],
   "source": [
    "manga.rate.hist(bins=11, figsize=(20, 3)) "
   ]
  },
  {
   "cell_type": "code",
   "execution_count": 7,
   "metadata": {},
   "outputs": [
    {
     "data": {
      "text/plain": [
       "<AxesSubplot:>"
      ]
     },
     "execution_count": 7,
     "metadata": {},
     "output_type": "execute_result"
    },
    {
     "data": {
      "image/png": "[encoded data removed]",
      "text/plain": [
       "<Figure size 432x288 with 1 Axes>"
      ]
     },
     "metadata": {
      "needs_background": "light"
     },
     "output_type": "display_data"
    }
   ],
   "source": [
    "manga.groupby('item_id').mean().rate.hist()"
   ]
  },
  {
   "cell_type": "code",
   "execution_count": 8,
   "metadata": {},
   "outputs": [
    {
     "name": "stdout",
     "output_type": "stream",
     "text": [
      "median: 627.0\n",
      "mean: 1749.0\n",
      "max: 64174\n"
     ]
    }
   ],
   "source": [
    "print('median:', manga.groupby('item_id').count().reset_index().rate.median()) #кол-во оценок\n",
    "print('mean:', manga.groupby('item_id').count().reset_index().rate.mean().round())\n",
    "print('max:', manga.groupby('item_id').count().reset_index().rate.max())"
   ]
  }
 ],
 "metadata": {
  "kernelspec": {
   "display_name": "Python 3",
   "language": "python",
   "name": "python3"
  },
  "language_info": {
   "codemirror_mode": {
    "name": "ipython",
    "version": 3
   },
   "file_extension": ".py",
   "mimetype": "text/x-python",
   "name": "python",
   "nbconvert_exporter": "python",
   "pygments_lexer": "ipython3",
   "version": "3.6.2"
  }
 },
 "nbformat": 4,
 "nbformat_minor": 4
}
