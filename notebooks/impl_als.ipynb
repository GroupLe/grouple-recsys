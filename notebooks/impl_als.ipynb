{
 "cells": [
  {
   "cell_type": "code",
   "execution_count": 1,
   "metadata": {},
   "outputs": [],
   "source": [
    "from scipy.sparse import csr_matrix\n",
    "import implicit\n",
    "import pandas as pd\n",
    "from tqdm.notebook import tqdm\n",
    "\n",
    "import matplotlib.pyplot as plt\n",
    "\n",
    "import metrics\n",
    "# from metrics import hitrate_k"
   ]
  },
  {
   "cell_type": "code",
   "execution_count": 4,
   "metadata": {},
   "outputs": [],
   "source": [
    "root = '../data/parquets/'\n",
    "book = pd.read_parquet(root + '/book_views.csv.parquet.gz', engine='pyarrow')"
   ]
  },
  {
   "cell_type": "code",
   "execution_count": 8,
   "metadata": {},
   "outputs": [
    {
     "data": {
      "text/html": [
       "<div>\n",
       "<style scoped>\n",
       "    .dataframe tbody tr th:only-of-type {\n",
       "        vertical-align: middle;\n",
       "    }\n",
       "\n",
       "    .dataframe tbody tr th {\n",
       "        vertical-align: top;\n",
       "    }\n",
       "\n",
       "    .dataframe thead th {\n",
       "        text-align: right;\n",
       "    }\n",
       "</style>\n",
       "<table border=\"1\" class=\"dataframe\">\n",
       "  <thead>\n",
       "    <tr style=\"text-align: right;\">\n",
       "      <th></th>\n",
       "      <th>user_id</th>\n",
       "      <th>item_id</th>\n",
       "      <th>rate</th>\n",
       "      <th>timestamp</th>\n",
       "    </tr>\n",
       "  </thead>\n",
       "  <tbody>\n",
       "    <tr>\n",
       "      <th>0</th>\n",
       "      <td>4</td>\n",
       "      <td>234705</td>\n",
       "      <td>0.0</td>\n",
       "      <td>1.363316e+09</td>\n",
       "    </tr>\n",
       "    <tr>\n",
       "      <th>1</th>\n",
       "      <td>116482</td>\n",
       "      <td>234705</td>\n",
       "      <td>0.0</td>\n",
       "      <td>1.363334e+09</td>\n",
       "    </tr>\n",
       "    <tr>\n",
       "      <th>2</th>\n",
       "      <td>112934</td>\n",
       "      <td>234170</td>\n",
       "      <td>10.0</td>\n",
       "      <td>1.363334e+09</td>\n",
       "    </tr>\n",
       "    <tr>\n",
       "      <th>3</th>\n",
       "      <td>112934</td>\n",
       "      <td>95396</td>\n",
       "      <td>10.0</td>\n",
       "      <td>1.363336e+09</td>\n",
       "    </tr>\n",
       "    <tr>\n",
       "      <th>4</th>\n",
       "      <td>35936</td>\n",
       "      <td>205566</td>\n",
       "      <td>0.0</td>\n",
       "      <td>1.363347e+09</td>\n",
       "    </tr>\n",
       "    <tr>\n",
       "      <th>...</th>\n",
       "      <td>...</td>\n",
       "      <td>...</td>\n",
       "      <td>...</td>\n",
       "      <td>...</td>\n",
       "    </tr>\n",
       "    <tr>\n",
       "      <th>1097012</th>\n",
       "      <td>2045727</td>\n",
       "      <td>230231</td>\n",
       "      <td>NaN</td>\n",
       "      <td>1.632047e+09</td>\n",
       "    </tr>\n",
       "    <tr>\n",
       "      <th>1097013</th>\n",
       "      <td>2045727</td>\n",
       "      <td>94061</td>\n",
       "      <td>NaN</td>\n",
       "      <td>1.632047e+09</td>\n",
       "    </tr>\n",
       "    <tr>\n",
       "      <th>1097014</th>\n",
       "      <td>2045727</td>\n",
       "      <td>245080</td>\n",
       "      <td>NaN</td>\n",
       "      <td>1.632048e+09</td>\n",
       "    </tr>\n",
       "    <tr>\n",
       "      <th>1097015</th>\n",
       "      <td>854238</td>\n",
       "      <td>228254</td>\n",
       "      <td>NaN</td>\n",
       "      <td>1.632050e+09</td>\n",
       "    </tr>\n",
       "    <tr>\n",
       "      <th>1097016</th>\n",
       "      <td>680600</td>\n",
       "      <td>232355</td>\n",
       "      <td>NaN</td>\n",
       "      <td>1.632051e+09</td>\n",
       "    </tr>\n",
       "  </tbody>\n",
       "</table>\n",
       "<p>1097017 rows × 4 columns</p>\n",
       "</div>"
      ],
      "text/plain": [
       "         user_id  item_id  rate     timestamp\n",
       "0              4   234705   0.0  1.363316e+09\n",
       "1         116482   234705   0.0  1.363334e+09\n",
       "2         112934   234170  10.0  1.363334e+09\n",
       "3         112934    95396  10.0  1.363336e+09\n",
       "4          35936   205566   0.0  1.363347e+09\n",
       "...          ...      ...   ...           ...\n",
       "1097012  2045727   230231   NaN  1.632047e+09\n",
       "1097013  2045727    94061   NaN  1.632047e+09\n",
       "1097014  2045727   245080   NaN  1.632048e+09\n",
       "1097015   854238   228254   NaN  1.632050e+09\n",
       "1097016   680600   232355   NaN  1.632051e+09\n",
       "\n",
       "[1097017 rows x 4 columns]"
      ]
     },
     "execution_count": 8,
     "metadata": {},
     "output_type": "execute_result"
    }
   ],
   "source": [
    "book"
   ]
  },
  {
   "cell_type": "code",
   "execution_count": 9,
   "metadata": {},
   "outputs": [
    {
     "data": {
      "text/plain": [
       "[4,\n",
       " 116482,\n",
       " 112934,\n",
       " 35936,\n",
       " 148759,\n",
       " 13640,\n",
       " 93147,\n",
       " 49042,\n",
       " 151556,\n",
       " 169327,\n",
       " 62079,\n",
       " 102324,\n",
       " 45964,\n",
       " 132810,\n",
       " 82500,\n",
       " 215446,\n",
       " 110144,\n",
       " 153001,\n",
       " 196654,\n",
       " 72880,\n",
       " 116675,\n",
       " 22365,\n",
       " 211239,\n",
       " 191759,\n",
       " 85269,\n",
       " 204759,\n",
       " 29001,\n",
       " 56909,\n",
       " 188267,\n",
       " 45917,\n",
       " 92423,\n",
       " 4601,\n",
       " 177556,\n",
       " 178963,\n",
       " 127118,\n",
       " 3077,\n",
       " 25622,\n",
       " 154751,\n",
       " 133760,\n",
       " 140067,\n",
       " 17566,\n",
       " 145762,\n",
       " 151656,\n",
       " 126674,\n",
       " 120157,\n",
       " 192229,\n",
       " 41442,\n",
       " 83018,\n",
       " 58895,\n",
       " 89568,\n",
       " 193472,\n",
       " 191991,\n",
       " 64428,\n",
       " 120038,\n",
       " 176904,\n",
       " 41637,\n",
       " 7035,\n",
       " 94415,\n",
       " 27078,\n",
       " 175258,\n",
       " 195201,\n",
       " 93599,\n",
       " 99322,\n",
       " 50896,\n",
       " 65925,\n",
       " 214326,\n",
       " 94427,\n",
       " 87291,\n",
       " 118657,\n",
       " 121412,\n",
       " 86808,\n",
       " 81710,\n",
       " 185105,\n",
       " 36055,\n",
       " 146163,\n",
       " 17221,\n",
       " 128304,\n",
       " 215000,\n",
       " 165080,\n",
       " 199063,\n",
       " 152077,\n",
       " 156257,\n",
       " 17699,\n",
       " 120469,\n",
       " 12887,\n",
       " 62385,\n",
       " 186544,\n",
       " 89451,\n",
       " 61043,\n",
       " 86127,\n",
       " 30877,\n",
       " 68977,\n",
       " 187017,\n",
       " 47342,\n",
       " 130775,\n",
       " 201214,\n",
       " 195951,\n",
       " 79053,\n",
       " 37699,\n",
       " 199505,\n",
       " 199791,\n",
       " 3538,\n",
       " 36428,\n",
       " 117034,\n",
       " 125994,\n",
       " 35748,\n",
       " 113103,\n",
       " 123873,\n",
       " 69106,\n",
       " 65558,\n",
       " 201280,\n",
       " 180002,\n",
       " 218179,\n",
       " 106083,\n",
       " 205239,\n",
       " 125455,\n",
       " 200055,\n",
       " 30487,\n",
       " 63458,\n",
       " 59399,\n",
       " 183350,\n",
       " 204946,\n",
       " 213805,\n",
       " 176861,\n",
       " 31634,\n",
       " 45036,\n",
       " 63862,\n",
       " 125251,\n",
       " 1821,\n",
       " 91030,\n",
       " 219144,\n",
       " 165956,\n",
       " 203107,\n",
       " 214747,\n",
       " 80350,\n",
       " 218767,\n",
       " 161921,\n",
       " 154178,\n",
       " 113834,\n",
       " 117050,\n",
       " 173459,\n",
       " 110807,\n",
       " 85869,\n",
       " 11296,\n",
       " 119240,\n",
       " 210549,\n",
       " 149455,\n",
       " 211842,\n",
       " 165675,\n",
       " 29955,\n",
       " 38792,\n",
       " 172459,\n",
       " 219552,\n",
       " 122837,\n",
       " 80009,\n",
       " 219471,\n",
       " 127064,\n",
       " 107062,\n",
       " 108667,\n",
       " 198543,\n",
       " 218293,\n",
       " 12931,\n",
       " 44617,\n",
       " 119907,\n",
       " 201630,\n",
       " 124324,\n",
       " 193158,\n",
       " 210121,\n",
       " 132819,\n",
       " 218151,\n",
       " 180384,\n",
       " 42035,\n",
       " 29550,\n",
       " 185057,\n",
       " 159794,\n",
       " 160991,\n",
       " 109616,\n",
       " 109098,\n",
       " 181817,\n",
       " 119799,\n",
       " 158791,\n",
       " 193711,\n",
       " 4342,\n",
       " 81504,\n",
       " 216602,\n",
       " 12587,\n",
       " 220282,\n",
       " 220320,\n",
       " 75202,\n",
       " 155519,\n",
       " 388,\n",
       " 161079,\n",
       " 220436,\n",
       " 188414,\n",
       " 153024,\n",
       " 157599,\n",
       " 167318,\n",
       " 153707,\n",
       " 39628,\n",
       " 103832,\n",
       " 28823,\n",
       " 198183,\n",
       " 122009,\n",
       " 177966,\n",
       " 82963,\n",
       " 19271,\n",
       " 215113,\n",
       " 220396,\n",
       " 117649,\n",
       " 151550,\n",
       " 33031,\n",
       " 143621,\n",
       " 220553,\n",
       " 194420,\n",
       " 204484,\n",
       " 213719,\n",
       " 160212,\n",
       " 147128,\n",
       " 204920,\n",
       " 65512,\n",
       " 25492,\n",
       " 206228,\n",
       " 170391,\n",
       " 110034,\n",
       " 168844,\n",
       " 66734,\n",
       " 37263,\n",
       " 102170,\n",
       " 141945,\n",
       " 87661,\n",
       " 176250,\n",
       " 137217,\n",
       " 15846,\n",
       " 164761,\n",
       " 183806,\n",
       " 196254,\n",
       " 183026,\n",
       " 200827,\n",
       " 208906,\n",
       " 68521,\n",
       " 217257,\n",
       " 19391,\n",
       " 41214,\n",
       " 25424,\n",
       " 175684,\n",
       " 55189,\n",
       " 202772,\n",
       " 109738,\n",
       " 199003,\n",
       " 114398,\n",
       " 1963,\n",
       " 37906,\n",
       " 87235,\n",
       " 33494,\n",
       " 178368,\n",
       " 92321,\n",
       " 196083,\n",
       " 16938,\n",
       " 21790,\n",
       " 10246,\n",
       " 89744,\n",
       " 114673,\n",
       " 205389,\n",
       " 123652,\n",
       " 215752,\n",
       " 20156,\n",
       " 37562,\n",
       " 53860,\n",
       " 182481,\n",
       " 111555,\n",
       " 170328,\n",
       " 102771,\n",
       " 62321,\n",
       " 177819,\n",
       " 205894,\n",
       " 186018,\n",
       " 180480,\n",
       " 179458,\n",
       " 199851,\n",
       " 7780,\n",
       " 151102,\n",
       " 30923,\n",
       " 141087,\n",
       " 196551,\n",
       " 174209,\n",
       " 182609,\n",
       " 75791,\n",
       " 103325,\n",
       " 144504,\n",
       " 144316,\n",
       " 160703,\n",
       " 204269,\n",
       " 144494,\n",
       " 42314,\n",
       " 144737,\n",
       " 197351,\n",
       " 101212,\n",
       " 3061,\n",
       " 168787,\n",
       " 209167,\n",
       " 81898,\n",
       " 219624,\n",
       " 98856,\n",
       " 48763,\n",
       " 214430,\n",
       " 13333,\n",
       " 176725,\n",
       " 18895,\n",
       " 137785,\n",
       " 211850,\n",
       " 33190,\n",
       " 73017,\n",
       " 95282,\n",
       " 113615,\n",
       " 22653,\n",
       " 24280,\n",
       " 184570,\n",
       " 154259,\n",
       " 78397,\n",
       " 173594,\n",
       " 31696,\n",
       " 181776,\n",
       " 211711,\n",
       " 174347,\n",
       " 41283,\n",
       " 197313,\n",
       " 200760,\n",
       " 111544,\n",
       " 189167,\n",
       " 148963,\n",
       " 215547,\n",
       " 30503,\n",
       " 111406,\n",
       " 173925,\n",
       " 66046,\n",
       " 208072,\n",
       " 14116,\n",
       " 69824,\n",
       " 183070,\n",
       " 4581,\n",
       " 6864,\n",
       " 43462,\n",
       " 94961,\n",
       " 207664,\n",
       " 199085,\n",
       " 139214,\n",
       " 193214,\n",
       " 175060,\n",
       " 33178,\n",
       " 24483,\n",
       " 54555,\n",
       " 184166,\n",
       " 67515,\n",
       " 215565,\n",
       " 145706,\n",
       " 221525,\n",
       " 89704,\n",
       " 207770,\n",
       " 203379,\n",
       " 201086,\n",
       " 108985,\n",
       " 223538,\n",
       " 212783,\n",
       " 215540,\n",
       " 176231,\n",
       " 104500,\n",
       " 72721,\n",
       " 180339,\n",
       " 6505,\n",
       " 68111,\n",
       " 42996,\n",
       " 142270,\n",
       " 35637,\n",
       " 195306,\n",
       " 209442,\n",
       " 119606,\n",
       " 147082,\n",
       " 83548,\n",
       " 154885,\n",
       " 93613,\n",
       " 146635,\n",
       " 196044,\n",
       " 1625,\n",
       " 221092,\n",
       " 141300,\n",
       " 219802,\n",
       " 45338,\n",
       " 147317,\n",
       " 105468,\n",
       " 73481,\n",
       " 198213,\n",
       " 138724,\n",
       " 221804,\n",
       " 106796,\n",
       " 103188,\n",
       " 62869,\n",
       " 44658,\n",
       " 155582,\n",
       " 161237,\n",
       " 115522,\n",
       " 58957,\n",
       " 138905,\n",
       " 74306,\n",
       " 223415,\n",
       " 196495,\n",
       " 207362,\n",
       " 21596,\n",
       " 116214,\n",
       " 68653,\n",
       " 166973,\n",
       " 206463,\n",
       " 193042,\n",
       " 87369,\n",
       " 206094,\n",
       " 174219,\n",
       " 51291,\n",
       " 215251,\n",
       " 101692,\n",
       " 182816,\n",
       " 220258,\n",
       " 45447,\n",
       " 68331,\n",
       " 153786,\n",
       " 212014,\n",
       " 205334,\n",
       " 124992,\n",
       " 77942,\n",
       " 218358,\n",
       " 218879,\n",
       " 143790,\n",
       " 101908,\n",
       " 165880,\n",
       " 11838,\n",
       " 44473,\n",
       " 153440,\n",
       " 219613,\n",
       " 53891,\n",
       " 37337,\n",
       " 111363,\n",
       " 85608,\n",
       " 75992,\n",
       " 169225,\n",
       " 186610,\n",
       " 225038,\n",
       " 25694,\n",
       " 225131,\n",
       " 201425,\n",
       " 31239,\n",
       " 10053,\n",
       " 224733,\n",
       " 75425,\n",
       " 225235,\n",
       " 89589,\n",
       " 150151,\n",
       " 72029,\n",
       " 215578,\n",
       " 122248,\n",
       " 160498,\n",
       " 197503,\n",
       " 1085,\n",
       " 83813,\n",
       " 199857,\n",
       " 102387,\n",
       " 135878,\n",
       " 95735,\n",
       " 205297,\n",
       " 225162,\n",
       " 126513,\n",
       " 199850,\n",
       " 33870,\n",
       " 9072,\n",
       " 214126,\n",
       " 149420,\n",
       " 191996,\n",
       " 27283,\n",
       " 204207,\n",
       " 92083,\n",
       " 69417,\n",
       " 136104,\n",
       " 143310,\n",
       " 186191,\n",
       " 51292,\n",
       " 222921,\n",
       " 197032,\n",
       " 17634,\n",
       " 99863,\n",
       " 188154,\n",
       " 177829,\n",
       " 213538,\n",
       " 53046,\n",
       " 25946,\n",
       " 82598,\n",
       " 225772,\n",
       " 84397,\n",
       " 220539,\n",
       " 18008,\n",
       " 42015,\n",
       " 120731,\n",
       " 155590,\n",
       " 209614,\n",
       " 21924,\n",
       " 93024,\n",
       " 206457,\n",
       " 207226,\n",
       " 122168,\n",
       " 187065,\n",
       " 76675,\n",
       " 128101,\n",
       " 154491,\n",
       " 224663,\n",
       " 55701,\n",
       " 129553,\n",
       " 172454,\n",
       " 176126,\n",
       " 145801,\n",
       " 146601,\n",
       " 41532,\n",
       " 163098,\n",
       " 18990,\n",
       " 226133,\n",
       " 24738,\n",
       " 154321,\n",
       " 104274,\n",
       " 222710,\n",
       " 30173,\n",
       " 178719,\n",
       " 124191,\n",
       " 88976,\n",
       " 206969,\n",
       " 150093,\n",
       " 211331,\n",
       " 225191,\n",
       " 220624,\n",
       " 204280,\n",
       " 194158,\n",
       " 30730,\n",
       " 198393,\n",
       " 200034,\n",
       " 16107,\n",
       " 16196,\n",
       " 222283,\n",
       " 163795,\n",
       " 193233,\n",
       " 152709,\n",
       " 32520,\n",
       " 165044,\n",
       " 79366,\n",
       " 113451,\n",
       " 189538,\n",
       " 225720,\n",
       " 78118,\n",
       " 129397,\n",
       " 71673,\n",
       " 45723,\n",
       " 153157,\n",
       " 135364,\n",
       " 129102,\n",
       " 181074,\n",
       " 180686,\n",
       " 197112,\n",
       " 139190,\n",
       " 226954,\n",
       " 220795,\n",
       " 197603,\n",
       " 132817,\n",
       " 163278,\n",
       " 205019,\n",
       " 6868,\n",
       " 41461,\n",
       " 169221,\n",
       " 161809,\n",
       " 86040,\n",
       " 28280,\n",
       " 223985,\n",
       " 188218,\n",
       " 204753,\n",
       " 101062,\n",
       " 123567,\n",
       " 93230,\n",
       " 8632,\n",
       " 50178,\n",
       " 78395,\n",
       " 173156,\n",
       " 17847,\n",
       " 96991,\n",
       " 66716,\n",
       " 92635,\n",
       " 72058,\n",
       " 208681,\n",
       " 227394,\n",
       " 37167,\n",
       " 225632,\n",
       " 39478,\n",
       " 82952,\n",
       " 15060,\n",
       " 185163,\n",
       " 102326,\n",
       " 138928,\n",
       " 71081,\n",
       " 102537,\n",
       " 225793,\n",
       " 154314,\n",
       " 149853,\n",
       " 78139,\n",
       " 142894,\n",
       " 128468,\n",
       " 22457,\n",
       " 143829,\n",
       " 113826,\n",
       " 226299,\n",
       " 154856,\n",
       " 139954,\n",
       " 108089,\n",
       " 186515,\n",
       " 227921,\n",
       " 39570,\n",
       " 188132,\n",
       " 114262,\n",
       " 21044,\n",
       " 6399,\n",
       " 227034,\n",
       " 227284,\n",
       " 214957,\n",
       " 63923,\n",
       " 198002,\n",
       " 167963,\n",
       " 145074,\n",
       " 216917,\n",
       " 228137,\n",
       " 7076,\n",
       " 45530,\n",
       " 39517,\n",
       " 225637,\n",
       " 12342,\n",
       " 55443,\n",
       " 198810,\n",
       " 32645,\n",
       " 76800,\n",
       " 112475,\n",
       " 138646,\n",
       " 116361,\n",
       " 70786,\n",
       " 212454,\n",
       " 199150,\n",
       " 91483,\n",
       " 85530,\n",
       " 228232,\n",
       " 23937,\n",
       " 193420,\n",
       " 17598,\n",
       " 169805,\n",
       " 100877,\n",
       " 53567,\n",
       " 23688,\n",
       " 14292,\n",
       " 149470,\n",
       " 29326,\n",
       " 180759,\n",
       " 26946,\n",
       " 198636,\n",
       " 112209,\n",
       " 104464,\n",
       " 225481,\n",
       " 27093,\n",
       " 224268,\n",
       " 200338,\n",
       " 135365,\n",
       " 204018,\n",
       " 120979,\n",
       " 186072,\n",
       " 28129,\n",
       " 29315,\n",
       " 32383,\n",
       " 209276,\n",
       " 190211,\n",
       " 229072,\n",
       " 181536,\n",
       " 110620,\n",
       " 17362,\n",
       " 194595,\n",
       " 215304,\n",
       " 223655,\n",
       " 125824,\n",
       " 181877,\n",
       " 223530,\n",
       " 229049,\n",
       " 92147,\n",
       " 113386,\n",
       " 153244,\n",
       " 177625,\n",
       " 118099,\n",
       " 145667,\n",
       " 40870,\n",
       " 32002,\n",
       " 78145,\n",
       " 226104,\n",
       " 146520,\n",
       " 63065,\n",
       " 57144,\n",
       " 44603,\n",
       " 155288,\n",
       " 43285,\n",
       " 22899,\n",
       " 197143,\n",
       " 120870,\n",
       " 75262,\n",
       " 66130,\n",
       " 227178,\n",
       " 228063,\n",
       " 227986,\n",
       " 222320,\n",
       " 63963,\n",
       " 187079,\n",
       " 159159,\n",
       " 229902,\n",
       " 229936,\n",
       " 15091,\n",
       " 195146,\n",
       " 183957,\n",
       " 220647,\n",
       " 226471,\n",
       " 177596,\n",
       " 229356,\n",
       " 149377,\n",
       " 173878,\n",
       " 132902,\n",
       " 128687,\n",
       " 230046,\n",
       " 164249,\n",
       " 113542,\n",
       " 228877,\n",
       " 230301,\n",
       " 228135,\n",
       " 209571,\n",
       " 88273,\n",
       " 197306,\n",
       " 89405,\n",
       " 191940,\n",
       " 218428,\n",
       " 142157,\n",
       " 188552,\n",
       " 130095,\n",
       " 15996,\n",
       " 61388,\n",
       " 108509,\n",
       " 25114,\n",
       " 112279,\n",
       " 68877,\n",
       " 168641,\n",
       " 67486,\n",
       " 198424,\n",
       " 230832,\n",
       " 227540,\n",
       " 111773,\n",
       " 160906,\n",
       " 120491,\n",
       " 200260,\n",
       " 220386,\n",
       " 206914,\n",
       " 2380,\n",
       " 90135,\n",
       " 126551,\n",
       " 24640,\n",
       " 195941,\n",
       " 70894,\n",
       " 122090,\n",
       " 199675,\n",
       " 50583,\n",
       " 191720,\n",
       " 86888,\n",
       " 52651,\n",
       " 207446,\n",
       " 175667,\n",
       " 187992,\n",
       " 163631,\n",
       " 149284,\n",
       " 70177,\n",
       " 71290,\n",
       " 200656,\n",
       " 201099,\n",
       " 128759,\n",
       " 216287,\n",
       " 179324,\n",
       " 90901,\n",
       " 231566,\n",
       " 100996,\n",
       " 12884,\n",
       " 199861,\n",
       " 203561,\n",
       " 142104,\n",
       " 127024,\n",
       " 188084,\n",
       " 231720,\n",
       " 166299,\n",
       " 92507,\n",
       " 228381,\n",
       " 166248,\n",
       " 174024,\n",
       " 124000,\n",
       " 129574,\n",
       " 123552,\n",
       " 155026,\n",
       " 194670,\n",
       " 217360,\n",
       " 95096,\n",
       " 179011,\n",
       " 231281,\n",
       " 105730,\n",
       " 213788,\n",
       " 196594,\n",
       " 195251,\n",
       " 175918,\n",
       " 98796,\n",
       " 20994,\n",
       " 111011,\n",
       " 49012,\n",
       " 98295,\n",
       " 154990,\n",
       " 66228,\n",
       " 30160,\n",
       " 189922,\n",
       " 97053,\n",
       " 61639,\n",
       " 181896,\n",
       " 218661,\n",
       " 174670,\n",
       " 86474,\n",
       " 45652,\n",
       " 119803,\n",
       " 230912,\n",
       " 231235,\n",
       " 232141,\n",
       " 144911,\n",
       " 171472,\n",
       " 211589,\n",
       " 117384,\n",
       " 214224,\n",
       " 157279,\n",
       " 131686,\n",
       " 130717,\n",
       " 154180,\n",
       " 152226,\n",
       " 123723,\n",
       " 214325,\n",
       " 12139,\n",
       " 226037,\n",
       " 36116,\n",
       " 172772,\n",
       " 153903,\n",
       " 173334,\n",
       " 209657,\n",
       " 156746,\n",
       " 219340,\n",
       " 18370,\n",
       " 199704,\n",
       " 87098,\n",
       " 106710,\n",
       " 35856,\n",
       " 196770,\n",
       " 231783,\n",
       " 40218,\n",
       " 121759,\n",
       " 27762,\n",
       " 178231,\n",
       " 232180,\n",
       " 72506,\n",
       " 233057,\n",
       " 212037,\n",
       " 220729,\n",
       " 160163,\n",
       " 171528,\n",
       " 6102,\n",
       " 150180,\n",
       " 64159,\n",
       " 225805,\n",
       " 155243,\n",
       " 10875,\n",
       " 182198,\n",
       " 203472,\n",
       " 50600,\n",
       " 132562,\n",
       " 77940,\n",
       " 94366,\n",
       " 193893,\n",
       " 200686,\n",
       " 193640,\n",
       " 213318,\n",
       " 100549,\n",
       " 28881,\n",
       " 233698,\n",
       " 181140,\n",
       " 133276,\n",
       " 209255,\n",
       " 114635,\n",
       " 208967,\n",
       " 17387,\n",
       " 89593,\n",
       " 160218,\n",
       " 226284,\n",
       " 63676,\n",
       " 199141,\n",
       " 47623,\n",
       " 66069,\n",
       " 145507,\n",
       " 205994,\n",
       " 65427,\n",
       " 202677,\n",
       " 183120,\n",
       " 201461,\n",
       " 128545,\n",
       " 33079,\n",
       " 226411,\n",
       " 161917,\n",
       " 2548,\n",
       " 30138,\n",
       " 28882,\n",
       " 17580,\n",
       " 102171,\n",
       " 91792,\n",
       " 234461,\n",
       " 128395,\n",
       " 33835,\n",
       " 34052,\n",
       " 165501,\n",
       " 234532,\n",
       " 28144,\n",
       " 231597,\n",
       " 59345,\n",
       " 154320,\n",
       " 231454,\n",
       " 183189,\n",
       " 158880,\n",
       " 222985,\n",
       " 220327,\n",
       " 174965,\n",
       " 210694,\n",
       " 199137,\n",
       " 224954,\n",
       " 206472,\n",
       " 194486,\n",
       " 130130,\n",
       " 207980,\n",
       " 203718,\n",
       " 222968,\n",
       " 138250,\n",
       " 60542,\n",
       " 220314,\n",
       " 234548,\n",
       " 79863,\n",
       " 164243,\n",
       " 216379,\n",
       " 194842,\n",
       " 234610,\n",
       " 14112,\n",
       " 150648,\n",
       " 165449,\n",
       " 122123,\n",
       " 9694,\n",
       " 235071,\n",
       " 140509,\n",
       " 32952,\n",
       " 197826,\n",
       " 112207,\n",
       " 234035,\n",
       " 42239,\n",
       " 68295,\n",
       " 188342,\n",
       " 233718,\n",
       " 2850,\n",
       " 94555,\n",
       " 73987,\n",
       " 139050,\n",
       " 59371,\n",
       " 235345,\n",
       " 128899,\n",
       " 43548,\n",
       " 117019,\n",
       " 196596,\n",
       " 118377,\n",
       " 235297,\n",
       " 185180,\n",
       " 102579,\n",
       " 234991,\n",
       " 47817,\n",
       " 209945,\n",
       " 156202,\n",
       " 1362,\n",
       " 15212,\n",
       " 190480,\n",
       " 235679,\n",
       " 103361,\n",
       " 155262,\n",
       " 86559,\n",
       " 64906,\n",
       " 235542,\n",
       " 92090,\n",
       " 228960,\n",
       " 231371,\n",
       " 232500,\n",
       " 66857,\n",
       " ...]"
      ]
     },
     "execution_count": 9,
     "metadata": {},
     "output_type": "execute_result"
    }
   ],
   "source": [
    "users = book.drop_duplicates(subset = 'user_id').user_id.to_list()\n",
    "users"
   ]
  },
  {
   "cell_type": "code",
   "execution_count": 13,
   "metadata": {},
   "outputs": [],
   "source": [
    "reversed_views = book.iloc[::-1]"
   ]
  },
  {
   "cell_type": "code",
   "execution_count": 14,
   "metadata": {},
   "outputs": [],
   "source": [
    "def get_test_subset(reversed_views):\n",
    "    test_df = pd.DataFrame()\n",
    "    for user in tqdm(users):\n",
    "        user_data = reversed_views[reversed_views.user_id == user]\n",
    "        if user_data.count()[0]>3:\n",
    "            for i in range(3):\n",
    "                test_df = test_df.append(user_data.iloc[i])\n",
    "        else:\n",
    "            test_df = test_df.append(user_data)\n",
    "    return test_df"
   ]
  },
  {
   "cell_type": "code",
   "execution_count": 16,
   "metadata": {},
   "outputs": [
    {
     "data": {
      "application/vnd.jupyter.widget-view+json": {
       "model_id": "7a332a63137e4664ad860cf9b411311c",
       "version_major": 2,
       "version_minor": 0
      },
      "text/plain": [
       "  0%|          | 0/84525 [00:00<?, ?it/s]"
      ]
     },
     "metadata": {},
     "output_type": "display_data"
    }
   ],
   "source": [
    "book_test = get_test_subset(reversed_views)"
   ]
  },
  {
   "cell_type": "code",
   "execution_count": 18,
   "metadata": {},
   "outputs": [],
   "source": [
    "book_train = pd.concat([views, book_test]).drop_duplicates(keep=False)"
   ]
  },
  {
   "cell_type": "code",
   "execution_count": 19,
   "metadata": {},
   "outputs": [
    {
     "data": {
      "text/html": [
       "<div>\n",
       "<style scoped>\n",
       "    .dataframe tbody tr th:only-of-type {\n",
       "        vertical-align: middle;\n",
       "    }\n",
       "\n",
       "    .dataframe tbody tr th {\n",
       "        vertical-align: top;\n",
       "    }\n",
       "\n",
       "    .dataframe thead th {\n",
       "        text-align: right;\n",
       "    }\n",
       "</style>\n",
       "<table border=\"1\" class=\"dataframe\">\n",
       "  <thead>\n",
       "    <tr style=\"text-align: right;\">\n",
       "      <th></th>\n",
       "      <th>item_id</th>\n",
       "      <th>rate</th>\n",
       "      <th>timestamp</th>\n",
       "      <th>user_id</th>\n",
       "    </tr>\n",
       "  </thead>\n",
       "  <tbody>\n",
       "    <tr>\n",
       "      <th>1067669</th>\n",
       "      <td>246366.0</td>\n",
       "      <td>NaN</td>\n",
       "      <td>1.621501e+09</td>\n",
       "      <td>4.0</td>\n",
       "    </tr>\n",
       "    <tr>\n",
       "      <th>1065193</th>\n",
       "      <td>48928.0</td>\n",
       "      <td>NaN</td>\n",
       "      <td>1.620711e+09</td>\n",
       "      <td>4.0</td>\n",
       "    </tr>\n",
       "    <tr>\n",
       "      <th>1029569</th>\n",
       "      <td>110157.0</td>\n",
       "      <td>NaN</td>\n",
       "      <td>1.609244e+09</td>\n",
       "      <td>4.0</td>\n",
       "    </tr>\n",
       "    <tr>\n",
       "      <th>5434</th>\n",
       "      <td>92949.0</td>\n",
       "      <td>0.0</td>\n",
       "      <td>1.368568e+09</td>\n",
       "      <td>116482.0</td>\n",
       "    </tr>\n",
       "    <tr>\n",
       "      <th>1</th>\n",
       "      <td>234705.0</td>\n",
       "      <td>0.0</td>\n",
       "      <td>1.363334e+09</td>\n",
       "      <td>116482.0</td>\n",
       "    </tr>\n",
       "  </tbody>\n",
       "</table>\n",
       "</div>"
      ],
      "text/plain": [
       "          item_id  rate     timestamp   user_id\n",
       "1067669  246366.0   NaN  1.621501e+09       4.0\n",
       "1065193   48928.0   NaN  1.620711e+09       4.0\n",
       "1029569  110157.0   NaN  1.609244e+09       4.0\n",
       "5434      92949.0   0.0  1.368568e+09  116482.0\n",
       "1        234705.0   0.0  1.363334e+09  116482.0"
      ]
     },
     "execution_count": 19,
     "metadata": {},
     "output_type": "execute_result"
    }
   ],
   "source": [
    "book_test.head()"
   ]
  },
  {
   "cell_type": "code",
   "execution_count": 20,
   "metadata": {},
   "outputs": [
    {
     "data": {
      "text/html": [
       "<div>\n",
       "<style scoped>\n",
       "    .dataframe tbody tr th:only-of-type {\n",
       "        vertical-align: middle;\n",
       "    }\n",
       "\n",
       "    .dataframe tbody tr th {\n",
       "        vertical-align: top;\n",
       "    }\n",
       "\n",
       "    .dataframe thead th {\n",
       "        text-align: right;\n",
       "    }\n",
       "</style>\n",
       "<table border=\"1\" class=\"dataframe\">\n",
       "  <thead>\n",
       "    <tr style=\"text-align: right;\">\n",
       "      <th></th>\n",
       "      <th>user_id</th>\n",
       "      <th>item_id</th>\n",
       "      <th>rate</th>\n",
       "      <th>timestamp</th>\n",
       "    </tr>\n",
       "  </thead>\n",
       "  <tbody>\n",
       "    <tr>\n",
       "      <th>0</th>\n",
       "      <td>4.0</td>\n",
       "      <td>234705.0</td>\n",
       "      <td>0.0</td>\n",
       "      <td>1.363316e+09</td>\n",
       "    </tr>\n",
       "    <tr>\n",
       "      <th>2</th>\n",
       "      <td>112934.0</td>\n",
       "      <td>234170.0</td>\n",
       "      <td>10.0</td>\n",
       "      <td>1.363334e+09</td>\n",
       "    </tr>\n",
       "    <tr>\n",
       "      <th>3</th>\n",
       "      <td>112934.0</td>\n",
       "      <td>95396.0</td>\n",
       "      <td>10.0</td>\n",
       "      <td>1.363336e+09</td>\n",
       "    </tr>\n",
       "    <tr>\n",
       "      <th>4</th>\n",
       "      <td>35936.0</td>\n",
       "      <td>205566.0</td>\n",
       "      <td>0.0</td>\n",
       "      <td>1.363347e+09</td>\n",
       "    </tr>\n",
       "    <tr>\n",
       "      <th>5</th>\n",
       "      <td>35936.0</td>\n",
       "      <td>227052.0</td>\n",
       "      <td>0.0</td>\n",
       "      <td>1.363348e+09</td>\n",
       "    </tr>\n",
       "  </tbody>\n",
       "</table>\n",
       "</div>"
      ],
      "text/plain": [
       "    user_id   item_id  rate     timestamp\n",
       "0       4.0  234705.0   0.0  1.363316e+09\n",
       "2  112934.0  234170.0  10.0  1.363334e+09\n",
       "3  112934.0   95396.0  10.0  1.363336e+09\n",
       "4   35936.0  205566.0   0.0  1.363347e+09\n",
       "5   35936.0  227052.0   0.0  1.363348e+09"
      ]
     },
     "execution_count": 20,
     "metadata": {},
     "output_type": "execute_result"
    }
   ],
   "source": [
    "book_train.head()"
   ]
  },
  {
   "cell_type": "markdown",
   "metadata": {},
   "source": [
    "# Look through data"
   ]
  },
  {
   "cell_type": "markdown",
   "metadata": {},
   "source": [
    "## Book"
   ]
  },
  {
   "cell_type": "code",
   "execution_count": 21,
   "metadata": {},
   "outputs": [
    {
     "name": "stdout",
     "output_type": "stream",
     "text": [
      "median: 2.0\n",
      "mean: 12.0\n",
      "max: 26651\n"
     ]
    }
   ],
   "source": [
    "print('median:', views.groupby('user_id').count().reset_index().rate.median()) \n",
    "print('mean:', views.groupby('user_id').count().reset_index().rate.mean().round()) # среднее кол-во оценок выставленных пользователем\n",
    "print('max:', views.groupby('user_id').count().reset_index().rate.max())"
   ]
  },
  {
   "cell_type": "code",
   "execution_count": 22,
   "metadata": {},
   "outputs": [
    {
     "data": {
      "text/plain": [
       "<AxesSubplot:>"
      ]
     },
     "execution_count": 22,
     "metadata": {},
     "output_type": "execute_result"
    },
    {
     "data": {
      "image/png": "[encoded data removed]",
      "text/plain": [
       "<Figure size 1440x216 with 1 Axes>"
      ]
     },
     "metadata": {
      "needs_background": "light"
     },
     "output_type": "display_data"
    }
   ],
   "source": [
    "views.rate.hist(bins=11, figsize=(20, 3)) "
   ]
  },
  {
   "cell_type": "code",
   "execution_count": 23,
   "metadata": {},
   "outputs": [
    {
     "data": {
      "text/plain": [
       "<AxesSubplot:>"
      ]
     },
     "execution_count": 23,
     "metadata": {},
     "output_type": "execute_result"
    },
    {
     "data": {
      "image/png": "[encoded data removed]",
      "text/plain": [
       "<Figure size 432x288 with 1 Axes>"
      ]
     },
     "metadata": {
      "needs_background": "light"
     },
     "output_type": "display_data"
    }
   ],
   "source": [
    "views.groupby('item_id').mean().rate.hist() # распределение по оценкам для айтемов"
   ]
  },
  {
   "cell_type": "code",
   "execution_count": 24,
   "metadata": {},
   "outputs": [
    {
     "name": "stdout",
     "output_type": "stream",
     "text": [
      "median: 3.0\n",
      "mean: 16.0\n",
      "max: 6804\n"
     ]
    }
   ],
   "source": [
    "print('median:', views.groupby('item_id').count().reset_index().rate.median()) #кол-во оценок\n",
    "print('mean:', views.groupby('item_id').count().reset_index().rate.mean().round())\n",
    "print('max:', views.groupby('item_id').count().reset_index().rate.max())"
   ]
  },
  {
   "cell_type": "code",
   "execution_count": 27,
   "metadata": {},
   "outputs": [
    {
     "data": {
      "text/plain": [
       "<AxesSubplot:>"
      ]
     },
     "execution_count": 27,
     "metadata": {},
     "output_type": "execute_result"
    },
    {
     "data": {
      "image/png": "[encoded data removed]",
      "text/plain": [
       "<Figure size 1440x216 with 1 Axes>"
      ]
     },
     "metadata": {
      "needs_background": "light"
     },
     "output_type": "display_data"
    }
   ],
   "source": [
    "book_test.item_id.drop_duplicates().hist(bins=100, figsize=(20, 3))"
   ]
  },
  {
   "cell_type": "code",
   "execution_count": 28,
   "metadata": {},
   "outputs": [
    {
     "data": {
      "text/plain": [
       "<AxesSubplot:>"
      ]
     },
     "execution_count": 28,
     "metadata": {},
     "output_type": "execute_result"
    },
    {
     "data": {
      "image/png": "[encoded data removed]",
      "text/plain": [
       "<Figure size 1440x216 with 1 Axes>"
      ]
     },
     "metadata": {
      "needs_background": "light"
     },
     "output_type": "display_data"
    }
   ],
   "source": [
    "book_test.item_id.drop_duplicates().hist(bins=100, figsize=(20, 3))"
   ]
  },
  {
   "cell_type": "code",
   "execution_count": 15,
   "metadata": {},
   "outputs": [
    {
     "data": {
      "text/plain": [
       "(873451, 3)"
      ]
     },
     "execution_count": 15,
     "metadata": {},
     "output_type": "execute_result"
    }
   ],
   "source": [
    "# delete negative samples\n",
    "train_df.shape"
   ]
  },
  {
   "cell_type": "markdown",
   "metadata": {},
   "source": [
    "## Manga"
   ]
  },
  {
   "cell_type": "code",
   "execution_count": 6,
   "metadata": {},
   "outputs": [],
   "source": [
    "manga = pd.read_parquet(root + '/manga_1_views.csv.parquet.gz', engine='pyarrow')"
   ]
  },
  {
   "cell_type": "code",
   "execution_count": 8,
   "metadata": {},
   "outputs": [
    {
     "data": {
      "text/html": [
       "<div>\n",
       "<style scoped>\n",
       "    .dataframe tbody tr th:only-of-type {\n",
       "        vertical-align: middle;\n",
       "    }\n",
       "\n",
       "    .dataframe tbody tr th {\n",
       "        vertical-align: top;\n",
       "    }\n",
       "\n",
       "    .dataframe thead th {\n",
       "        text-align: right;\n",
       "    }\n",
       "</style>\n",
       "<table border=\"1\" class=\"dataframe\">\n",
       "  <thead>\n",
       "    <tr style=\"text-align: right;\">\n",
       "      <th></th>\n",
       "      <th>user_id</th>\n",
       "      <th>item_id</th>\n",
       "      <th>rate</th>\n",
       "      <th>timestamp</th>\n",
       "    </tr>\n",
       "  </thead>\n",
       "  <tbody>\n",
       "    <tr>\n",
       "      <th>0</th>\n",
       "      <td>17934</td>\n",
       "      <td>2718</td>\n",
       "      <td>NaN</td>\n",
       "      <td>1.339927e+09</td>\n",
       "    </tr>\n",
       "    <tr>\n",
       "      <th>1</th>\n",
       "      <td>18313</td>\n",
       "      <td>2718</td>\n",
       "      <td>10.0</td>\n",
       "      <td>1.339927e+09</td>\n",
       "    </tr>\n",
       "    <tr>\n",
       "      <th>2</th>\n",
       "      <td>43620</td>\n",
       "      <td>2718</td>\n",
       "      <td>5.0</td>\n",
       "      <td>1.339927e+09</td>\n",
       "    </tr>\n",
       "    <tr>\n",
       "      <th>3</th>\n",
       "      <td>63405</td>\n",
       "      <td>2718</td>\n",
       "      <td>10.0</td>\n",
       "      <td>1.339927e+09</td>\n",
       "    </tr>\n",
       "    <tr>\n",
       "      <th>4</th>\n",
       "      <td>65907</td>\n",
       "      <td>2718</td>\n",
       "      <td>NaN</td>\n",
       "      <td>1.339927e+09</td>\n",
       "    </tr>\n",
       "  </tbody>\n",
       "</table>\n",
       "</div>"
      ],
      "text/plain": [
       "   user_id  item_id  rate     timestamp\n",
       "0    17934     2718   NaN  1.339927e+09\n",
       "1    18313     2718  10.0  1.339927e+09\n",
       "2    43620     2718   5.0  1.339927e+09\n",
       "3    63405     2718  10.0  1.339927e+09\n",
       "4    65907     2718   NaN  1.339927e+09"
      ]
     },
     "execution_count": 8,
     "metadata": {},
     "output_type": "execute_result"
    }
   ],
   "source": [
    "manga.head()"
   ]
  },
  {
   "cell_type": "code",
   "execution_count": 14,
   "metadata": {},
   "outputs": [
    {
     "name": "stdout",
     "output_type": "stream",
     "text": [
      "median: 10.0\n",
      "mean: 66.0\n",
      "max: 13002\n"
     ]
    }
   ],
   "source": [
    "print('median:', manga.groupby('user_id').count().reset_index().rate.median()) \n",
    "print('mean:', manga.groupby('user_id').count().reset_index().rate.mean().round()) # среднее кол-во оценок выставленных пользователем\n",
    "print('max:', manga.groupby('user_id').count().reset_index().rate.max())"
   ]
  },
  {
   "cell_type": "code",
   "execution_count": 9,
   "metadata": {},
   "outputs": [
    {
     "data": {
      "text/plain": [
       "<AxesSubplot:>"
      ]
     },
     "execution_count": 9,
     "metadata": {},
     "output_type": "execute_result"
    },
    {
     "data": {
      "image/png": "[encoded data removed]",
      "text/plain": [
       "<Figure size 1440x216 with 1 Axes>"
      ]
     },
     "metadata": {
      "needs_background": "light"
     },
     "output_type": "display_data"
    }
   ],
   "source": [
    "manga.rate.hist(bins=11, figsize=(20, 3)) "
   ]
  },
  {
   "cell_type": "code",
   "execution_count": 10,
   "metadata": {},
   "outputs": [
    {
     "data": {
      "text/plain": [
       "<AxesSubplot:>"
      ]
     },
     "execution_count": 10,
     "metadata": {},
     "output_type": "execute_result"
    },
    {
     "data": {
      "image/png": "[encoded data removed]",
      "text/plain": [
       "<Figure size 432x288 with 1 Axes>"
      ]
     },
     "metadata": {
      "needs_background": "light"
     },
     "output_type": "display_data"
    }
   ],
   "source": [
    "manga.groupby('item_id').mean().rate.hist()"
   ]
  },
  {
   "cell_type": "code",
   "execution_count": 12,
   "metadata": {},
   "outputs": [
    {
     "name": "stdout",
     "output_type": "stream",
     "text": [
      "median: 627.0\n",
      "mean: 1749.0\n",
      "max: 64174\n"
     ]
    }
   ],
   "source": [
    "print('median:', manga.groupby('item_id').count().reset_index().rate.median()) #кол-во оценок\n",
    "print('mean:', manga.groupby('item_id').count().reset_index().rate.mean().round())\n",
    "print('max:', manga.groupby('item_id').count().reset_index().rate.max())"
   ]
  },
  {
   "cell_type": "code",
   "execution_count": null,
   "metadata": {},
   "outputs": [],
   "source": []
  },
  {
   "cell_type": "markdown",
   "metadata": {},
   "source": [
    "# Preparation"
   ]
  },
  {
   "cell_type": "code",
   "execution_count": 16,
   "metadata": {},
   "outputs": [],
   "source": [
    "d = train_df.groupby('user_id').sum()['rate']\n",
    "dislikers = d[d <= 0].index.to_list()"
   ]
  },
  {
   "cell_type": "code",
   "execution_count": 17,
   "metadata": {},
   "outputs": [
    {
     "data": {
      "text/plain": [
       "(502822, 3)"
      ]
     },
     "execution_count": 17,
     "metadata": {},
     "output_type": "execute_result"
    }
   ],
   "source": [
    "test_items = test_df.item_id.drop_duplicates()\n",
    "\n",
    "train_df = train_df[train_df.item_id.isin(test_items) & (~train_df.user_id.isin(dislikers))]\n",
    "test_df = test_df[(test_df.user_id.isin(train_df.user_id.drop_duplicates()))]\n",
    "train_df.shape"
   ]
  },
  {
   "cell_type": "code",
   "execution_count": 18,
   "metadata": {},
   "outputs": [],
   "source": [
    "calc_preference = lambda v: 1 if v>0 else -10\n",
    "train_df['metric']= train_df.rate.apply(calc_preference)\n",
    "\n",
    "alpha = 10\n",
    "train_df.metric = train_df.metric * alpha * train_df.rate\n",
    "\n",
    "train_df.rate = train_df.metric\n",
    "train_df = train_df.drop('metric', axis=1)"
   ]
  },
  {
   "cell_type": "code",
   "execution_count": 19,
   "metadata": {},
   "outputs": [
    {
     "ename": "NameError",
     "evalue": "name 'path' is not defined",
     "output_type": "error",
     "traceback": [
      "\u001b[1;31m---------------------------------------------------------------------------\u001b[0m",
      "\u001b[1;31mNameError\u001b[0m                                 Traceback (most recent call last)",
      "\u001b[1;32m<ipython-input-19-ace848a9e393>\u001b[0m in \u001b[0;36m<module>\u001b[1;34m\u001b[0m\n\u001b[1;32m----> 1\u001b[1;33m \u001b[0mdf_users\u001b[0m \u001b[1;33m=\u001b[0m \u001b[0mpd\u001b[0m\u001b[1;33m.\u001b[0m\u001b[0mread_csv\u001b[0m\u001b[1;33m(\u001b[0m\u001b[0mpath\u001b[0m \u001b[1;33m+\u001b[0m \u001b[0mdf_prefix\u001b[0m \u001b[1;33m+\u001b[0m \u001b[1;34m'users.csv'\u001b[0m\u001b[1;33m)\u001b[0m\u001b[1;33m\u001b[0m\u001b[0m\n\u001b[0m\u001b[0;32m      2\u001b[0m \u001b[0mdf_users\u001b[0m\u001b[1;33m.\u001b[0m\u001b[0mhead\u001b[0m\u001b[1;33m(\u001b[0m\u001b[1;36m2\u001b[0m\u001b[1;33m)\u001b[0m\u001b[1;33m\u001b[0m\u001b[0m\n",
      "\u001b[1;31mNameError\u001b[0m: name 'path' is not defined"
     ]
    }
   ],
   "source": [
    "df_users = pd.read_csv(path + 'users.csv')\n",
    "df_users.head(2)"
   ]
  },
  {
   "cell_type": "code",
   "execution_count": 23,
   "metadata": {},
   "outputs": [
    {
     "data": {
      "text/html": [
       "<div>\n",
       "<style scoped>\n",
       "    .dataframe tbody tr th:only-of-type {\n",
       "        vertical-align: middle;\n",
       "    }\n",
       "\n",
       "    .dataframe tbody tr th {\n",
       "        vertical-align: top;\n",
       "    }\n",
       "\n",
       "    .dataframe thead th {\n",
       "        text-align: right;\n",
       "    }\n",
       "</style>\n",
       "<table border=\"1\" class=\"dataframe\">\n",
       "  <thead>\n",
       "    <tr style=\"text-align: right;\">\n",
       "      <th></th>\n",
       "      <th>item_id</th>\n",
       "      <th>rate</th>\n",
       "      <th>user_id</th>\n",
       "    </tr>\n",
       "  </thead>\n",
       "  <tbody>\n",
       "    <tr>\n",
       "      <th>0</th>\n",
       "      <td>2718</td>\n",
       "      <td>10.0</td>\n",
       "      <td>18313</td>\n",
       "    </tr>\n",
       "    <tr>\n",
       "      <th>1</th>\n",
       "      <td>2718</td>\n",
       "      <td>5.0</td>\n",
       "      <td>43620</td>\n",
       "    </tr>\n",
       "  </tbody>\n",
       "</table>\n",
       "</div>"
      ],
      "text/plain": [
       "   item_id  rate  user_id\n",
       "0     2718  10.0    18313\n",
       "1     2718   5.0    43620"
      ]
     },
     "execution_count": 23,
     "metadata": {},
     "output_type": "execute_result"
    }
   ],
   "source": [
    "df_manga = pd.read_parquet(path + '/manga/views.parquet.gz', engine='pyarrow')\n",
    "df_manga.head(2)"
   ]
  },
  {
   "cell_type": "markdown",
   "metadata": {},
   "source": [
    "# Filter data"
   ]
  },
  {
   "cell_type": "code",
   "execution_count": 24,
   "metadata": {},
   "outputs": [
    {
     "data": {
      "text/plain": [
       "<AxesSubplot:>"
      ]
     },
     "execution_count": 24,
     "metadata": {},
     "output_type": "execute_result"
    },
    {
     "data": {
      "image/png": "[encoded data removed]",
      "text/plain": [
       "<Figure size 432x288 with 1 Axes>"
      ]
     },
     "metadata": {
      "needs_background": "light"
     },
     "output_type": "display_data"
    }
   ],
   "source": [
    "train_df.groupby('user_id').count()['rate'].hist(bins=100)"
   ]
  },
  {
   "cell_type": "markdown",
   "metadata": {},
   "source": [
    "# indexing data sequentially"
   ]
  },
  {
   "cell_type": "code",
   "execution_count": 25,
   "metadata": {},
   "outputs": [
    {
     "name": "stdout",
     "output_type": "stream",
     "text": [
      "11396 16336\n"
     ]
    }
   ],
   "source": [
    "users = sorted(train_df.user_id.drop_duplicates().to_list())\n",
    "items = sorted(train_df.item_id.drop_duplicates().to_list())\n",
    "print(len(users), len(items))"
   ]
  },
  {
   "cell_type": "code",
   "execution_count": 26,
   "metadata": {},
   "outputs": [
    {
     "data": {
      "text/html": [
       "<div>\n",
       "<style scoped>\n",
       "    .dataframe tbody tr th:only-of-type {\n",
       "        vertical-align: middle;\n",
       "    }\n",
       "\n",
       "    .dataframe tbody tr th {\n",
       "        vertical-align: top;\n",
       "    }\n",
       "\n",
       "    .dataframe thead th {\n",
       "        text-align: right;\n",
       "    }\n",
       "</style>\n",
       "<table border=\"1\" class=\"dataframe\">\n",
       "  <thead>\n",
       "    <tr style=\"text-align: right;\">\n",
       "      <th></th>\n",
       "      <th>user_id</th>\n",
       "      <th>user_index</th>\n",
       "    </tr>\n",
       "  </thead>\n",
       "  <tbody>\n",
       "    <tr>\n",
       "      <th>0</th>\n",
       "      <td>4.0</td>\n",
       "      <td>0</td>\n",
       "    </tr>\n",
       "    <tr>\n",
       "      <th>1</th>\n",
       "      <td>76.0</td>\n",
       "      <td>1</td>\n",
       "    </tr>\n",
       "    <tr>\n",
       "      <th>2</th>\n",
       "      <td>234.0</td>\n",
       "      <td>2</td>\n",
       "    </tr>\n",
       "    <tr>\n",
       "      <th>3</th>\n",
       "      <td>347.0</td>\n",
       "      <td>3</td>\n",
       "    </tr>\n",
       "    <tr>\n",
       "      <th>4</th>\n",
       "      <td>485.0</td>\n",
       "      <td>4</td>\n",
       "    </tr>\n",
       "  </tbody>\n",
       "</table>\n",
       "</div>"
      ],
      "text/plain": [
       "   user_id  user_index\n",
       "0      4.0           0\n",
       "1     76.0           1\n",
       "2    234.0           2\n",
       "3    347.0           3\n",
       "4    485.0           4"
      ]
     },
     "execution_count": 26,
     "metadata": {},
     "output_type": "execute_result"
    }
   ],
   "source": [
    "users_pivot = pd.DataFrame.from_records([(uid, i) for i, uid in enumerate(users)], columns='user_id user_index'.split())\n",
    "items_pivot = pd.DataFrame.from_records([(iid, i) for i, iid in enumerate(items)], columns='item_id item_index'.split())\n",
    "users_pivot.head()"
   ]
  },
  {
   "cell_type": "code",
   "execution_count": 27,
   "metadata": {},
   "outputs": [
    {
     "data": {
      "text/html": [
       "<div>\n",
       "<style scoped>\n",
       "    .dataframe tbody tr th:only-of-type {\n",
       "        vertical-align: middle;\n",
       "    }\n",
       "\n",
       "    .dataframe tbody tr th {\n",
       "        vertical-align: top;\n",
       "    }\n",
       "\n",
       "    .dataframe thead th {\n",
       "        text-align: right;\n",
       "    }\n",
       "</style>\n",
       "<table border=\"1\" class=\"dataframe\">\n",
       "  <thead>\n",
       "    <tr style=\"text-align: right;\">\n",
       "      <th></th>\n",
       "      <th>item_id</th>\n",
       "      <th>rate</th>\n",
       "      <th>user_id</th>\n",
       "      <th>user_index</th>\n",
       "      <th>item_index</th>\n",
       "    </tr>\n",
       "  </thead>\n",
       "  <tbody>\n",
       "    <tr>\n",
       "      <th>0</th>\n",
       "      <td>234705.0</td>\n",
       "      <td>-0.0</td>\n",
       "      <td>4.0</td>\n",
       "      <td>0</td>\n",
       "      <td>8618</td>\n",
       "    </tr>\n",
       "    <tr>\n",
       "      <th>1</th>\n",
       "      <td>234705.0</td>\n",
       "      <td>100.0</td>\n",
       "      <td>4.0</td>\n",
       "      <td>0</td>\n",
       "      <td>8618</td>\n",
       "    </tr>\n",
       "    <tr>\n",
       "      <th>2</th>\n",
       "      <td>234705.0</td>\n",
       "      <td>100.0</td>\n",
       "      <td>151556.0</td>\n",
       "      <td>1711</td>\n",
       "      <td>8618</td>\n",
       "    </tr>\n",
       "    <tr>\n",
       "      <th>3</th>\n",
       "      <td>234705.0</td>\n",
       "      <td>100.0</td>\n",
       "      <td>102324.0</td>\n",
       "      <td>1103</td>\n",
       "      <td>8618</td>\n",
       "    </tr>\n",
       "    <tr>\n",
       "      <th>4</th>\n",
       "      <td>234705.0</td>\n",
       "      <td>-0.0</td>\n",
       "      <td>72880.0</td>\n",
       "      <td>795</td>\n",
       "      <td>8618</td>\n",
       "    </tr>\n",
       "  </tbody>\n",
       "</table>\n",
       "</div>"
      ],
      "text/plain": [
       "    item_id   rate   user_id  user_index  item_index\n",
       "0  234705.0   -0.0       4.0           0        8618\n",
       "1  234705.0  100.0       4.0           0        8618\n",
       "2  234705.0  100.0  151556.0        1711        8618\n",
       "3  234705.0  100.0  102324.0        1103        8618\n",
       "4  234705.0   -0.0   72880.0         795        8618"
      ]
     },
     "execution_count": 27,
     "metadata": {},
     "output_type": "execute_result"
    }
   ],
   "source": [
    "train_df = pd.merge(train_df, users_pivot, on='user_id')\n",
    "train_df = pd.merge(train_df, items_pivot, on='item_id') \n",
    "train_df.head()"
   ]
  },
  {
   "cell_type": "code",
   "execution_count": 28,
   "metadata": {},
   "outputs": [
    {
     "data": {
      "text/html": [
       "<div>\n",
       "<style scoped>\n",
       "    .dataframe tbody tr th:only-of-type {\n",
       "        vertical-align: middle;\n",
       "    }\n",
       "\n",
       "    .dataframe tbody tr th {\n",
       "        vertical-align: top;\n",
       "    }\n",
       "\n",
       "    .dataframe thead th {\n",
       "        text-align: right;\n",
       "    }\n",
       "</style>\n",
       "<table border=\"1\" class=\"dataframe\">\n",
       "  <thead>\n",
       "    <tr style=\"text-align: right;\">\n",
       "      <th></th>\n",
       "      <th>rate</th>\n",
       "      <th>user_index</th>\n",
       "      <th>item_index</th>\n",
       "    </tr>\n",
       "  </thead>\n",
       "  <tbody>\n",
       "    <tr>\n",
       "      <th>0</th>\n",
       "      <td>-0.0</td>\n",
       "      <td>0</td>\n",
       "      <td>8618</td>\n",
       "    </tr>\n",
       "    <tr>\n",
       "      <th>1</th>\n",
       "      <td>100.0</td>\n",
       "      <td>0</td>\n",
       "      <td>8618</td>\n",
       "    </tr>\n",
       "    <tr>\n",
       "      <th>2</th>\n",
       "      <td>100.0</td>\n",
       "      <td>1711</td>\n",
       "      <td>8618</td>\n",
       "    </tr>\n",
       "    <tr>\n",
       "      <th>3</th>\n",
       "      <td>100.0</td>\n",
       "      <td>1103</td>\n",
       "      <td>8618</td>\n",
       "    </tr>\n",
       "    <tr>\n",
       "      <th>4</th>\n",
       "      <td>-0.0</td>\n",
       "      <td>795</td>\n",
       "      <td>8618</td>\n",
       "    </tr>\n",
       "  </tbody>\n",
       "</table>\n",
       "</div>"
      ],
      "text/plain": [
       "    rate  user_index  item_index\n",
       "0   -0.0           0        8618\n",
       "1  100.0           0        8618\n",
       "2  100.0        1711        8618\n",
       "3  100.0        1103        8618\n",
       "4   -0.0         795        8618"
      ]
     },
     "execution_count": 28,
     "metadata": {},
     "output_type": "execute_result"
    }
   ],
   "source": [
    "indexed_df = train_df.drop('user_id item_id'.split(), axis=1)\n",
    "indexed_df.head()"
   ]
  },
  {
   "cell_type": "code",
   "execution_count": 29,
   "metadata": {},
   "outputs": [],
   "source": [
    "users = indexed_df.user_index.to_list()\n",
    "items = indexed_df.item_index.to_list()\n",
    "rate  = indexed_df.rate.to_list()\n",
    "\n",
    "shape = (len(set(users)), len(set(items)))\n",
    "ui_mat = csr_matrix((rate, (users, items)), shape=shape)"
   ]
  },
  {
   "cell_type": "code",
   "execution_count": 30,
   "metadata": {},
   "outputs": [
    {
     "data": {
      "text/plain": [
       "(11396, 16336)"
      ]
     },
     "execution_count": 30,
     "metadata": {},
     "output_type": "execute_result"
    }
   ],
   "source": [
    "ui_mat.shape"
   ]
  },
  {
   "cell_type": "code",
   "execution_count": 31,
   "metadata": {},
   "outputs": [
    {
     "name": "stderr",
     "output_type": "stream",
     "text": [
      "WARNING:root:OpenBLAS detected. Its highly recommend to set the environment variable 'export OPENBLAS_NUM_THREADS=1' to disable its internal multithreading\n"
     ]
    },
    {
     "data": {
      "application/vnd.jupyter.widget-view+json": {
       "model_id": "1f4079da503942d8a2aa9fa7d3ec27b0",
       "version_major": 2,
       "version_minor": 0
      },
      "text/plain": [
       "  0%|          | 0/20 [00:00<?, ?it/s]"
      ]
     },
     "metadata": {},
     "output_type": "display_data"
    }
   ],
   "source": [
    "# initialize a model\n",
    "model = implicit.als.AlternatingLeastSquares(factors=10, calculate_training_loss=True, iterations=20)\n",
    "\n",
    "# train the model on a sparse matrix of item/user/confidence weights\n",
    "model.fit(ui_mat)"
   ]
  },
  {
   "cell_type": "markdown",
   "metadata": {},
   "source": [
    "# Calc metrics"
   ]
  },
  {
   "cell_type": "code",
   "execution_count": 32,
   "metadata": {},
   "outputs": [
    {
     "data": {
      "text/plain": [
       "(11396, 16336)"
      ]
     },
     "execution_count": 32,
     "metadata": {},
     "output_type": "execute_result"
    }
   ],
   "source": [
    "ui_mat.shape"
   ]
  },
  {
   "cell_type": "code",
   "execution_count": 33,
   "metadata": {},
   "outputs": [
    {
     "data": {
      "application/vnd.jupyter.widget-view+json": {
       "model_id": "dc6a9baf38914d82b6f475fc1dc162c8",
       "version_major": 2,
       "version_minor": 0
      },
      "text/plain": [
       "  0%|          | 0/11396 [00:00<?, ?it/s]"
      ]
     },
     "metadata": {},
     "output_type": "display_data"
    }
   ],
   "source": [
    "recs = []\n",
    "\n",
    "k = 100\n",
    "for uid, uix in tqdm(list(users_pivot.to_records(index=False))):\n",
    "    recs.append(model.recommend(uix, ui_mat, N=k, filter_already_liked_items=False))"
   ]
  },
  {
   "cell_type": "code",
   "execution_count": 34,
   "metadata": {},
   "outputs": [],
   "source": [
    "gt = test_df.groupby('user_id')['item_id'].apply(list).tolist()\n",
    "\n",
    "items_pivot_dict = {rec_id : item_id for item_id, rec_id in list(items_pivot.to_records(index=False))}\n",
    "# select only items ids and map it to real ids. Without mapping cant calculating metrics with gt dataframe \n",
    "rec_items = list(map(lambda rec_list: [items_pivot_dict[x[0]] for x in rec_list], recs))"
   ]
  },
  {
   "cell_type": "code",
   "execution_count": 35,
   "metadata": {},
   "outputs": [
    {
     "ename": "NameError",
     "evalue": "name 'mean_average_presision_k' is not defined",
     "output_type": "error",
     "traceback": [
      "\u001b[1;31m---------------------------------------------------------------------------\u001b[0m",
      "\u001b[1;31mNameError\u001b[0m                                 Traceback (most recent call last)",
      "\u001b[1;32m<ipython-input-35-6c67d65a4f70>\u001b[0m in \u001b[0;36m<module>\u001b[1;34m\u001b[0m\n\u001b[1;32m----> 1\u001b[1;33m \u001b[0mmean_average_presision_k\u001b[0m\u001b[1;33m(\u001b[0m\u001b[0mrec_items\u001b[0m\u001b[1;33m,\u001b[0m \u001b[0mgt\u001b[0m\u001b[1;33m,\u001b[0m \u001b[0mk\u001b[0m\u001b[1;33m=\u001b[0m\u001b[0mk\u001b[0m\u001b[1;33m)\u001b[0m\u001b[1;33m\u001b[0m\u001b[0m\n\u001b[0m",
      "\u001b[1;31mNameError\u001b[0m: name 'mean_average_presision_k' is not defined"
     ]
    }
   ],
   "source": [
    "mean_average_presision_k(rec_items, gt, k=k)"
   ]
  },
  {
   "cell_type": "code",
   "execution_count": 38,
   "metadata": {},
   "outputs": [
    {
     "ename": "NameError",
     "evalue": "name 'hitrate_k' is not defined",
     "output_type": "error",
     "traceback": [
      "\u001b[1;31m---------------------------------------------------------------------------\u001b[0m",
      "\u001b[1;31mNameError\u001b[0m                                 Traceback (most recent call last)",
      "\u001b[1;32m<ipython-input-38-e22d037b9952>\u001b[0m in \u001b[0;36m<module>\u001b[1;34m\u001b[0m\n\u001b[1;32m----> 1\u001b[1;33m \u001b[0mhitrate_k\u001b[0m\u001b[1;33m(\u001b[0m\u001b[0mrec_items\u001b[0m\u001b[1;33m,\u001b[0m \u001b[0mgt\u001b[0m\u001b[1;33m,\u001b[0m \u001b[0mk\u001b[0m\u001b[1;33m=\u001b[0m\u001b[0mk\u001b[0m\u001b[1;33m)\u001b[0m\u001b[1;33m\u001b[0m\u001b[0m\n\u001b[0m",
      "\u001b[1;31mNameError\u001b[0m: name 'hitrate_k' is not defined"
     ]
    }
   ],
   "source": [
    "hitrate_k(rec_items, gt, k=k)"
   ]
  },
  {
   "cell_type": "code",
   "execution_count": null,
   "metadata": {},
   "outputs": [],
   "source": []
  }
 ],
 "metadata": {
  "kernelspec": {
   "display_name": "Python 3",
   "language": "python",
   "name": "python3"
  },
  "language_info": {
   "codemirror_mode": {
    "name": "ipython",
    "version": 3
   },
   "file_extension": ".py",
   "mimetype": "text/x-python",
   "name": "python",
   "nbconvert_exporter": "python",
   "pygments_lexer": "ipython3",
   "version": "3.6.2"
  }
 },
 "nbformat": 4,
 "nbformat_minor": 4
}
